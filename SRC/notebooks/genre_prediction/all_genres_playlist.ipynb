{
 "cells": [
  {
   "cell_type": "code",
   "execution_count": 7,
   "metadata": {},
   "outputs": [],
   "source": [
    "import pandas as pd\n",
    "import numpy as np"
   ]
  },
  {
   "cell_type": "code",
   "execution_count": 10,
   "metadata": {},
   "outputs": [],
   "source": [
    "# BLUES\n",
    "blues_1 = pd.read_csv('../../data/raw_data/individual_playlist/the_sound_of_blues.csv')\n",
    "blues_2 = pd.read_csv('../../data/raw_data/individual_playlist/blues_mix.csv')\n",
    "blues_3 = pd.read_csv('../../data/raw_data/individual_playlist/blues_classics.csv')\n",
    "blues_4 = pd.read_csv('../../data/raw_data/individual_playlist/blues_origins.csv')\n",
    "blues_5 = pd.read_csv('../../data/raw_data/individual_playlist/queens_of_the_blues.csv')\n",
    "blues_6 = pd.read_csv('../../data/raw_data/individual_playlist/blues_standards.csv')\n",
    "blues_7 = pd.read_csv('../../data/raw_data/individual_playlist/blues_roots.csv')\n",
    "blues_8 = pd.read_csv('../../data/raw_data/individual_playlist/healin_blues.csv')\n",
    "blues_9 = pd.read_csv('../../data/raw_data/individual_playlist/got_blues.csv')\n",
    "blues_10 = pd.read_csv('../../data/raw_data/individual_playlist/blues_drive.csv')\n",
    "blues_11 = pd.read_csv('../../data/raw_data/individual_playlist/blues_road_trip.csv')\n",
    "blues_12 = pd.read_csv('../../data/raw_data/individual_playlist/electric_blues_classics.csv')\n",
    "blues_13 = pd.read_csv('../../data/raw_data/individual_playlist/classic_blues_guitar.csv')\n",
    "blues_14 = pd.read_csv('../../data/raw_data/individual_playlist/best_blues_songs_of_2021.csv')"
   ]
  },
  {
   "cell_type": "code",
   "execution_count": 11,
   "metadata": {},
   "outputs": [],
   "source": [
    "# CLASSICAL\n",
    "\n",
    "classical_1 = pd.read_csv('../../data/raw_data/individual_playlist/the_sound_of_classical.csv')\n",
    "classical_2 = pd.read_csv('../../data/raw_data/individual_playlist/classical_essentials.csv')\n",
    "classical_3 = pd.read_csv('../../data/raw_data/individual_playlist/violin_classical_violin_mix.csv')\n",
    "classical_4 = pd.read_csv('../../data/raw_data/individual_playlist/classical_mix.csv')\n",
    "classical_5 = pd.read_csv('../../data/raw_data/individual_playlist/epic_classical.csv')\n",
    "classical_6 = pd.read_csv('../../data/raw_data/individual_playlist/dark_academia_classical.csv')\n",
    "classical_7 = pd.read_csv('../../data/raw_data/individual_playlist/chilled_classical.csv')\n",
    "classical_8 = pd.read_csv('../../data/raw_data/individual_playlist/classical_new_releases.csv')\n",
    "classical_9 = pd.read_csv('../../data/raw_data/individual_playlist/classical_ballet.csv')\n",
    "classical_10 = pd.read_csv('../../data/raw_data/individual_playlist/baroque_classics.csv')\n",
    "classical_11 = pd.read_csv('../../data/raw_data/individual_playlist/classical_romance.csv')\n",
    "classical_12 = pd.read_csv('../../data/raw_data/individual_playlist/classical_piano.csv')\n",
    "classical_13 = pd.read_csv('../../data/raw_data/individual_playlist/orchestra_classical_mix.csv')\n",
    "classical_14 = pd.read_csv('../../data/raw_data/individual_playlist/classical_romantic_era_mix.csv')"
   ]
  },
  {
   "cell_type": "code",
   "execution_count": 12,
   "metadata": {},
   "outputs": [],
   "source": [
    "# COUNTRY\n",
    "\n",
    "country_1 = pd.read_csv('../../data/raw_data/individual_playlist/the_sound_of_country.csv')\n",
    "country_2 = pd.read_csv('../../data/raw_data/individual_playlist/countrys_greatest_hits.csv')\n",
    "country_3 = pd.read_csv('../../data/raw_data/individual_playlist/country_mix.csv')\n",
    "country_4 = pd.read_csv('../../data/raw_data/individual_playlist/country_favourites.csv')\n",
    "country_5 = pd.read_csv('../../data/raw_data/individual_playlist/90s_country.csv')\n",
    "country_6 = pd.read_csv('../../data/raw_data/individual_playlist/country_rocks.csv')\n",
    "country_7 = pd.read_csv('../../data/raw_data/individual_playlist/country_drive.csv')\n",
    "country_8 = pd.read_csv('../../data/raw_data/individual_playlist/country_rock_classics.csv')"
   ]
  },
  {
   "cell_type": "code",
   "execution_count": 13,
   "metadata": {},
   "outputs": [],
   "source": [
    "# HIP HOP\n",
    "\n",
    "hiphop_1 = pd.read_csv('../../data/raw_data/individual_playlist/the_sound_of_hip_hop.csv')\n",
    "hiphop_2 = pd.read_csv('../../data/raw_data/individual_playlist/hip_hop_mix.csv')\n",
    "hiphop_3 = pd.read_csv('../../data/raw_data/individual_playlist/raised_on_hip_hop.csv')"
   ]
  },
  {
   "cell_type": "code",
   "execution_count": 14,
   "metadata": {},
   "outputs": [],
   "source": [
    "# DISCO\n",
    "\n",
    "disco_1 = pd.read_csv('../../data/raw_data/individual_playlist/the_sound_of_disco.csv')\n",
    "disco_2 = pd.read_csv('../../data/raw_data/individual_playlist/disco_forever.csv')\n",
    "disco_3 = pd.read_csv('../../data/raw_data/individual_playlist/disco_fever.csv')\n",
    "disco_4 = pd.read_csv('../../data/raw_data/individual_playlist/disco.csv')\n",
    "disco_5 = pd.read_csv('../../data/raw_data/individual_playlist/disco_classics_70s_&_80s.csv')\n",
    "disco_6 = pd.read_csv('../../data/raw_data/individual_playlist/disco_80_&_90.csv')\n",
    "disco_7 = pd.read_csv('../../data/raw_data/individual_playlist/disco_club.csv')\n",
    "disco_8 = pd.read_csv('../../data/raw_data/individual_playlist/queens_of_disco.csv')\n",
    "disco_9 = pd.read_csv('../../data/raw_data/individual_playlist/soulful_disco.csv')\n",
    "disco_10 = pd.read_csv('../../data/raw_data/individual_playlist/this_is_disco.csv')"
   ]
  },
  {
   "cell_type": "code",
   "execution_count": 15,
   "metadata": {},
   "outputs": [],
   "source": [
    "# JAZZ\n",
    "\n",
    "jazz_1 = pd.read_csv('../../data/raw_data/individual_playlist/the_sound_of_jazz.csv')\n",
    "jazz_2 = pd.read_csv('../../data/raw_data/individual_playlist/jazz_classics.csv')\n",
    "jazz_3 = pd.read_csv('../../data/raw_data/individual_playlist/jazz_mix.csv')\n",
    "jazz_4 = pd.read_csv('../../data/raw_data/individual_playlist/jazz_for_lovers.csv')\n",
    "jazz_5 = pd.read_csv('../../data/raw_data/individual_playlist/jazz_noir.csv')\n",
    "jazz_6 = pd.read_csv('../../data/raw_data/individual_playlist/jazz_for_beginners.csv')\n",
    "jazz_7 = pd.read_csv('../../data/raw_data/individual_playlist/jazz_ballads.csv')\n",
    "jazz_8 = pd.read_csv('../../data/raw_data/individual_playlist/jazz_bar.csv')"
   ]
  },
  {
   "cell_type": "code",
   "execution_count": 16,
   "metadata": {},
   "outputs": [],
   "source": [
    "# METAL\n",
    "\n",
    "metal_1 = pd.read_csv('../../data/raw_data/individual_playlist/the_sound_of_metal.csv')\n",
    "metal_2 = pd.read_csv('../../data/raw_data/individual_playlist/metal_mix.csv')\n",
    "metal_3 = pd.read_csv('../../data/raw_data/individual_playlist/heavy_metal.csv')\n",
    "metal_4 = pd.read_csv('../../data/raw_data/individual_playlist/metal_essentials.csv')\n",
    "metal_5 = pd.read_csv('../../data/raw_data/individual_playlist/old_school_metal.csv')\n",
    "metal_6 = pd.read_csv('../../data/raw_data/individual_playlist/metal_charge.csv')\n",
    "metal_7 = pd.read_csv('../../data/raw_data/individual_playlist/00s_metal_classics.csv')"
   ]
  },
  {
   "cell_type": "code",
   "execution_count": 17,
   "metadata": {},
   "outputs": [],
   "source": [
    "# POP\n",
    "\n",
    "pop = pd.read_csv('../../data/raw_data/individual_playlist/the_sound_of_pop.csv')"
   ]
  },
  {
   "cell_type": "code",
   "execution_count": 18,
   "metadata": {},
   "outputs": [],
   "source": [
    "# REGGAE\n",
    "\n",
    "reggae_1 = pd.read_csv('../../data/raw_data/individual_playlist/the_sound_of_reggae.csv')\n",
    "reggae_2 = pd.read_csv('../../data/raw_data/individual_playlist/reggae_mix.csv')\n",
    "reggae_3 = pd.read_csv('../../data/raw_data/individual_playlist/reggae_classics.csv')\n",
    "reggae_4 = pd.read_csv('../../data/raw_data/individual_playlist/ultimate_reggae.csv')\n",
    "reggae_5 = pd.read_csv('../../data/raw_data/individual_playlist/reggae_en_espanol.csv')\n",
    "reggae_6 = pd.read_csv('../../data/raw_data/individual_playlist/island_reggae.csv')\n",
    "reggae_7 = pd.read_csv('../../data/raw_data/individual_playlist/reggae_infusions.csv')\n",
    "reggae_8 = pd.read_csv('../../data/raw_data/individual_playlist/reggae_nation.csv')\n",
    "reggae_9 = pd.read_csv('../../data/raw_data/individual_playlist/volando_con_reggae.csv')\n",
    "reggae_10 = pd.read_csv('../../data/raw_data/individual_playlist/reggae_luv.csv')\n",
    "reggae_11 = pd.read_csv('../../data/raw_data/individual_playlist/raised_on_reggae.csv')\n",
    "reggae_12 = pd.read_csv('../../data/raw_data/individual_playlist/this_is_positive_reggae_vibrations.csv')\n",
    "reggae_13 = pd.read_csv('../../data/raw_data/individual_playlist/reggae_al_sur.csv')\n",
    "reggae_14 = pd.read_csv('../../data/raw_data/individual_playlist/one_love.csv')\n",
    "reggae_15 = pd.read_csv('../../data/raw_data/individual_playlist/vintage_vibes_sunny_reggae.csv')"
   ]
  },
  {
   "cell_type": "code",
   "execution_count": 19,
   "metadata": {},
   "outputs": [],
   "source": [
    "# ROCK\n",
    "\n",
    "rock = pd.read_csv('../../data/raw_data/individual_playlist/the_sound_of_rock.csv')"
   ]
  },
  {
   "cell_type": "code",
   "execution_count": 20,
   "metadata": {},
   "outputs": [],
   "source": [
    "# HOUSE\n",
    "\n",
    "house = pd.read_csv('../../data/raw_data/individual_playlist/the_sound_of_house.csv')"
   ]
  },
  {
   "cell_type": "code",
   "execution_count": 21,
   "metadata": {},
   "outputs": [],
   "source": [
    "# ELECTRONICA\n",
    "\n",
    "electronica = pd.read_csv('../../data/raw_data/individual_playlist/the_sound_of_electronica.csv')"
   ]
  },
  {
   "cell_type": "code",
   "execution_count": 22,
   "metadata": {},
   "outputs": [],
   "source": [
    "# TECHNO\n",
    "\n",
    "techno = pd.read_csv('../../data/raw_data/individual_playlist/the_sound_of_techno.csv')"
   ]
  },
  {
   "cell_type": "code",
   "execution_count": 23,
   "metadata": {},
   "outputs": [],
   "source": [
    "# LATIN\n",
    "\n",
    "latin = pd.read_csv('../../data/raw_data/individual_playlist/the_sound_of_latin.csv')"
   ]
  },
  {
   "cell_type": "code",
   "execution_count": 337,
   "metadata": {},
   "outputs": [],
   "source": [
    "# We will create a new dataframe using the concat method\n",
    "all_genres = pd.concat([blues_1, blues_2, blues_3, blues_4, blues_5, blues_6, blues_7, \n",
    "                        blues_8, blues_9, blues_10, blues_11, blues_12, blues_13, \n",
    "                        classical_1, classical_2, classical_3, classical_4, classical_5, classical_6, classical_7, classical_8, \n",
    "                        classical_9, classical_10, classical_11, classical_12, classical_13, classical_14,\n",
    "                        country_1, country_2, country_3, country_4, country_5, country_6, country_7, country_8, \n",
    "                        jazz_1, jazz_2, jazz_3, jazz_4, jazz_5, jazz_6, jazz_7, jazz_8,\n",
    "                        metal_1, metal_2, metal_3, metal_4, metal_5, metal_6, metal_7, \n",
    "                        disco_1, disco_2, disco_3, disco_4, disco_5, disco_6, disco_7, disco_8, disco_9, disco_10,\n",
    "                        hiphop_1, hiphop_2, hiphop_3,\n",
    "                        pop, \n",
    "                        reggae_1, reggae_2, reggae_3, reggae_4, reggae_5, reggae_6, reggae_7, reggae_8, reggae_9, \n",
    "                        reggae_10, reggae_11, reggae_12, reggae_13, reggae_14, reggae_15,\n",
    "                        rock, \n",
    "                        house, \n",
    "                        electronica, \n",
    "                        techno,\n",
    "                        latin])"
   ]
  },
  {
   "cell_type": "code",
   "execution_count": 338,
   "metadata": {},
   "outputs": [],
   "source": [
    "# Since the track ID column is labeled as Unnamed, we need to rename it\n",
    "all_genres.rename(columns={'Unnamed: 0' : 'track_id'}, inplace=True)"
   ]
  },
  {
   "cell_type": "code",
   "execution_count": 339,
   "metadata": {},
   "outputs": [
    {
     "name": "stdout",
     "output_type": "stream",
     "text": [
      "<class 'pandas.core.frame.DataFrame'>\n",
      "Int64Index: 15140 entries, 0 to 1027\n",
      "Data columns (total 24 columns):\n",
      " #   Column             Non-Null Count  Dtype  \n",
      "---  ------             --------------  -----  \n",
      " 0   track_id           15140 non-null  object \n",
      " 1   playlist_url       15140 non-null  object \n",
      " 2   playlist_name      15140 non-null  object \n",
      " 3   track_name         15140 non-null  object \n",
      " 4   track_popularity   15140 non-null  int64  \n",
      " 5   artist_name        15140 non-null  object \n",
      " 6   album              15140 non-null  object \n",
      " 7   album_cover        15139 non-null  object \n",
      " 8   artist_genres      15140 non-null  object \n",
      " 9   artist_popularity  15140 non-null  int64  \n",
      " 10  danceability       15140 non-null  float64\n",
      " 11  energy             15140 non-null  float64\n",
      " 12  key                15140 non-null  int64  \n",
      " 13  loudness           15140 non-null  float64\n",
      " 14  mode               15140 non-null  int64  \n",
      " 15  speechiness        15140 non-null  float64\n",
      " 16  acousticness       15140 non-null  float64\n",
      " 17  instrumentalness   15140 non-null  float64\n",
      " 18  liveness           15140 non-null  float64\n",
      " 19  valence            15140 non-null  float64\n",
      " 20  tempo              15140 non-null  float64\n",
      " 21  duration_ms        15140 non-null  int64  \n",
      " 22  time_signature     15140 non-null  int64  \n",
      " 23  genre              15140 non-null  object \n",
      "dtypes: float64(9), int64(6), object(9)\n",
      "memory usage: 2.9+ MB\n"
     ]
    }
   ],
   "source": [
    "all_genres.info()"
   ]
  },
  {
   "cell_type": "code",
   "execution_count": 340,
   "metadata": {},
   "outputs": [],
   "source": [
    "# Techno, house and electronica are part of electronics, so we will change the values\n",
    "all_genres[\"genre\"] = np.where(all_genres[\"genre\"] == \"techno\", 'electronic', all_genres[\"genre\"])\n",
    "all_genres[\"genre\"] = np.where(all_genres[\"genre\"] == \"house\", 'electronic', all_genres[\"genre\"])\n",
    "all_genres[\"genre\"] = np.where(all_genres[\"genre\"] == \"electronica\", 'electronic', all_genres[\"genre\"])"
   ]
  },
  {
   "cell_type": "code",
   "execution_count": 341,
   "metadata": {},
   "outputs": [
    {
     "data": {
      "text/plain": [
       "electronic    1739\n",
       "country       1363\n",
       "jazz          1318\n",
       "metal         1299\n",
       "reggae        1283\n",
       "blues         1263\n",
       "pop           1251\n",
       "disco         1224\n",
       "classical     1177\n",
       "rock          1134\n",
       "hiphop        1061\n",
       "latin         1028\n",
       "Name: genre, dtype: int64"
      ]
     },
     "execution_count": 341,
     "metadata": {},
     "output_type": "execute_result"
    }
   ],
   "source": [
    "all_genres['genre'].value_counts()"
   ]
  },
  {
   "cell_type": "code",
   "execution_count": 342,
   "metadata": {},
   "outputs": [],
   "source": [
    "# We will also drop the duplicates based on the track_id and the genre columns, so there are no repeated\n",
    "# tracks labeled with the same genre\n",
    "all_genres.drop_duplicates(subset=['track_id', 'genre'], inplace=True)"
   ]
  },
  {
   "cell_type": "code",
   "execution_count": 343,
   "metadata": {},
   "outputs": [
    {
     "data": {
      "text/plain": [
       "electronic    1725\n",
       "pop           1251\n",
       "rock          1134\n",
       "country       1083\n",
       "reggae        1038\n",
       "blues         1034\n",
       "latin         1028\n",
       "hiphop        1024\n",
       "disco         1016\n",
       "metal         1013\n",
       "jazz          1002\n",
       "classical      990\n",
       "Name: genre, dtype: int64"
      ]
     },
     "execution_count": 343,
     "metadata": {},
     "output_type": "execute_result"
    }
   ],
   "source": [
    "all_genres['genre'].value_counts()"
   ]
  },
  {
   "cell_type": "code",
   "execution_count": 346,
   "metadata": {},
   "outputs": [],
   "source": [
    "all_genres.to_csv('../data/raw_data/all_genres_playlists.csv', index=False)"
   ]
  },
  {
   "cell_type": "code",
   "execution_count": null,
   "metadata": {},
   "outputs": [],
   "source": []
  }
 ],
 "metadata": {
  "kernelspec": {
   "display_name": "Python 3.7.4 64-bit",
   "language": "python",
   "name": "python3"
  },
  "language_info": {
   "codemirror_mode": {
    "name": "ipython",
    "version": 3
   },
   "file_extension": ".py",
   "mimetype": "text/x-python",
   "name": "python",
   "nbconvert_exporter": "python",
   "pygments_lexer": "ipython3",
   "version": "3.7.4"
  },
  "orig_nbformat": 4,
  "vscode": {
   "interpreter": {
    "hash": "aee8b7b246df8f9039afb4144a1f6fd8d2ca17a180786b69acc140d282b71a49"
   }
  }
 },
 "nbformat": 4,
 "nbformat_minor": 2
}
