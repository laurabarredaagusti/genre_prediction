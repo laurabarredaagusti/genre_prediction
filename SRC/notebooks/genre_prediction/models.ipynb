{
 "cells": [
  {
   "cell_type": "code",
   "execution_count": 2,
   "metadata": {},
   "outputs": [],
   "source": [
    "import pandas as pd\n",
    "import numpy as np"
   ]
  },
  {
   "cell_type": "code",
   "execution_count": 3,
   "metadata": {},
   "outputs": [],
   "source": [
    "df = pd.read_csv('../../data/clean_data/clean01.csv')"
   ]
  },
  {
   "cell_type": "code",
   "execution_count": 4,
   "metadata": {},
   "outputs": [
    {
     "name": "stdout",
     "output_type": "stream",
     "text": [
      "<class 'pandas.core.frame.DataFrame'>\n",
      "RangeIndex: 13338 entries, 0 to 13337\n",
      "Data columns (total 22 columns):\n",
      " #   Column             Non-Null Count  Dtype  \n",
      "---  ------             --------------  -----  \n",
      " 0   track_name         13338 non-null  object \n",
      " 1   track_popularity   13338 non-null  int64  \n",
      " 2   artist_name        13338 non-null  object \n",
      " 3   album              13334 non-null  object \n",
      " 4   artist_genres      13338 non-null  object \n",
      " 5   artist_popularity  13338 non-null  int64  \n",
      " 6   danceability       13338 non-null  float64\n",
      " 7   energy             13338 non-null  float64\n",
      " 8   key                13338 non-null  int64  \n",
      " 9   loudness           13338 non-null  float64\n",
      " 10  mode               13338 non-null  int64  \n",
      " 11  speechiness        13338 non-null  float64\n",
      " 12  acousticness       13338 non-null  float64\n",
      " 13  instrumentalness   13338 non-null  float64\n",
      " 14  liveness           13338 non-null  float64\n",
      " 15  valence            13338 non-null  float64\n",
      " 16  tempo              13338 non-null  float64\n",
      " 17  duration_ms        13338 non-null  int64  \n",
      " 18  time_signature     13338 non-null  int64  \n",
      " 19  genre              13338 non-null  int64  \n",
      " 20  artist_encoded     13338 non-null  int64  \n",
      " 21  album_encoded      13338 non-null  int64  \n",
      "dtypes: float64(9), int64(9), object(4)\n",
      "memory usage: 2.2+ MB\n"
     ]
    }
   ],
   "source": [
    "df.info()"
   ]
  },
  {
   "cell_type": "code",
   "execution_count": 5,
   "metadata": {},
   "outputs": [
    {
     "data": {
      "text/html": [
       "<div>\n",
       "<style scoped>\n",
       "    .dataframe tbody tr th:only-of-type {\n",
       "        vertical-align: middle;\n",
       "    }\n",
       "\n",
       "    .dataframe tbody tr th {\n",
       "        vertical-align: top;\n",
       "    }\n",
       "\n",
       "    .dataframe thead th {\n",
       "        text-align: right;\n",
       "    }\n",
       "</style>\n",
       "<table border=\"1\" class=\"dataframe\">\n",
       "  <thead>\n",
       "    <tr style=\"text-align: right;\">\n",
       "      <th></th>\n",
       "      <th>track_name</th>\n",
       "      <th>track_popularity</th>\n",
       "      <th>artist_name</th>\n",
       "      <th>album</th>\n",
       "      <th>artist_genres</th>\n",
       "      <th>artist_popularity</th>\n",
       "      <th>danceability</th>\n",
       "      <th>energy</th>\n",
       "      <th>key</th>\n",
       "      <th>loudness</th>\n",
       "      <th>...</th>\n",
       "      <th>acousticness</th>\n",
       "      <th>instrumentalness</th>\n",
       "      <th>liveness</th>\n",
       "      <th>valence</th>\n",
       "      <th>tempo</th>\n",
       "      <th>duration_ms</th>\n",
       "      <th>time_signature</th>\n",
       "      <th>genre</th>\n",
       "      <th>artist_encoded</th>\n",
       "      <th>album_encoded</th>\n",
       "    </tr>\n",
       "  </thead>\n",
       "  <tbody>\n",
       "    <tr>\n",
       "      <th>0</th>\n",
       "      <td>Working Man</td>\n",
       "      <td>51</td>\n",
       "      <td>Otis Rush</td>\n",
       "      <td>Mourning In The Morning</td>\n",
       "      <td>['blues', 'blues rock', 'chicago blues', 'elec...</td>\n",
       "      <td>41</td>\n",
       "      <td>0.633</td>\n",
       "      <td>0.625</td>\n",
       "      <td>0</td>\n",
       "      <td>-10.951</td>\n",
       "      <td>...</td>\n",
       "      <td>0.492</td>\n",
       "      <td>0.000418</td>\n",
       "      <td>0.204</td>\n",
       "      <td>0.841</td>\n",
       "      <td>103.355</td>\n",
       "      <td>147800</td>\n",
       "      <td>4</td>\n",
       "      <td>1</td>\n",
       "      <td>3879</td>\n",
       "      <td>5734</td>\n",
       "    </tr>\n",
       "    <tr>\n",
       "      <th>1</th>\n",
       "      <td>Long Way Home</td>\n",
       "      <td>38</td>\n",
       "      <td>Clarence \"Gatemouth\" Brown</td>\n",
       "      <td>Long Way Home</td>\n",
       "      <td>['blues', 'blues rock', 'memphis blues', 'mode...</td>\n",
       "      <td>33</td>\n",
       "      <td>0.728</td>\n",
       "      <td>0.054</td>\n",
       "      <td>11</td>\n",
       "      <td>-22.557</td>\n",
       "      <td>...</td>\n",
       "      <td>0.910</td>\n",
       "      <td>0.048000</td>\n",
       "      <td>0.120</td>\n",
       "      <td>0.425</td>\n",
       "      <td>78.033</td>\n",
       "      <td>338333</td>\n",
       "      <td>4</td>\n",
       "      <td>1</td>\n",
       "      <td>1024</td>\n",
       "      <td>5133</td>\n",
       "    </tr>\n",
       "    <tr>\n",
       "      <th>2</th>\n",
       "      <td>She's A Sweet One</td>\n",
       "      <td>49</td>\n",
       "      <td>Junior Wells</td>\n",
       "      <td>Calling All Blues</td>\n",
       "      <td>['blues', 'blues rock', 'chicago blues', 'elec...</td>\n",
       "      <td>41</td>\n",
       "      <td>0.705</td>\n",
       "      <td>0.483</td>\n",
       "      <td>1</td>\n",
       "      <td>-12.209</td>\n",
       "      <td>...</td>\n",
       "      <td>0.150</td>\n",
       "      <td>0.026500</td>\n",
       "      <td>0.202</td>\n",
       "      <td>0.713</td>\n",
       "      <td>122.863</td>\n",
       "      <td>181786</td>\n",
       "      <td>4</td>\n",
       "      <td>1</td>\n",
       "      <td>2716</td>\n",
       "      <td>1547</td>\n",
       "    </tr>\n",
       "    <tr>\n",
       "      <th>3</th>\n",
       "      <td>Help Me</td>\n",
       "      <td>59</td>\n",
       "      <td>Sonny Boy Williamson II</td>\n",
       "      <td>More Real Folk Blues</td>\n",
       "      <td>['acoustic blues', 'blues', 'blues rock', 'chi...</td>\n",
       "      <td>46</td>\n",
       "      <td>0.745</td>\n",
       "      <td>0.436</td>\n",
       "      <td>5</td>\n",
       "      <td>-9.617</td>\n",
       "      <td>...</td>\n",
       "      <td>0.597</td>\n",
       "      <td>0.021300</td>\n",
       "      <td>0.610</td>\n",
       "      <td>0.771</td>\n",
       "      <td>114.216</td>\n",
       "      <td>188200</td>\n",
       "      <td>4</td>\n",
       "      <td>1</td>\n",
       "      <td>4642</td>\n",
       "      <td>5703</td>\n",
       "    </tr>\n",
       "    <tr>\n",
       "      <th>4</th>\n",
       "      <td>Take Out Some Insurance</td>\n",
       "      <td>51</td>\n",
       "      <td>Jimmy Reed</td>\n",
       "      <td>Rockin' With Reed</td>\n",
       "      <td>['blues', 'blues rock', 'chicago blues', 'elec...</td>\n",
       "      <td>42</td>\n",
       "      <td>0.747</td>\n",
       "      <td>0.288</td>\n",
       "      <td>9</td>\n",
       "      <td>-14.435</td>\n",
       "      <td>...</td>\n",
       "      <td>0.663</td>\n",
       "      <td>0.000000</td>\n",
       "      <td>0.122</td>\n",
       "      <td>0.566</td>\n",
       "      <td>111.330</td>\n",
       "      <td>143332</td>\n",
       "      <td>4</td>\n",
       "      <td>1</td>\n",
       "      <td>2488</td>\n",
       "      <td>7228</td>\n",
       "    </tr>\n",
       "  </tbody>\n",
       "</table>\n",
       "<p>5 rows × 22 columns</p>\n",
       "</div>"
      ],
      "text/plain": [
       "                track_name  track_popularity                 artist_name  \\\n",
       "0              Working Man                51                   Otis Rush   \n",
       "1            Long Way Home                38  Clarence \"Gatemouth\" Brown   \n",
       "2        She's A Sweet One                49                Junior Wells   \n",
       "3                  Help Me                59     Sonny Boy Williamson II   \n",
       "4  Take Out Some Insurance                51                  Jimmy Reed   \n",
       "\n",
       "                     album                                      artist_genres  \\\n",
       "0  Mourning In The Morning  ['blues', 'blues rock', 'chicago blues', 'elec...   \n",
       "1            Long Way Home  ['blues', 'blues rock', 'memphis blues', 'mode...   \n",
       "2       Calling All Blues   ['blues', 'blues rock', 'chicago blues', 'elec...   \n",
       "3     More Real Folk Blues  ['acoustic blues', 'blues', 'blues rock', 'chi...   \n",
       "4        Rockin' With Reed  ['blues', 'blues rock', 'chicago blues', 'elec...   \n",
       "\n",
       "   artist_popularity  danceability  energy  key  loudness  ...  acousticness  \\\n",
       "0                 41         0.633   0.625    0   -10.951  ...         0.492   \n",
       "1                 33         0.728   0.054   11   -22.557  ...         0.910   \n",
       "2                 41         0.705   0.483    1   -12.209  ...         0.150   \n",
       "3                 46         0.745   0.436    5    -9.617  ...         0.597   \n",
       "4                 42         0.747   0.288    9   -14.435  ...         0.663   \n",
       "\n",
       "   instrumentalness  liveness  valence    tempo  duration_ms  time_signature  \\\n",
       "0          0.000418     0.204    0.841  103.355       147800               4   \n",
       "1          0.048000     0.120    0.425   78.033       338333               4   \n",
       "2          0.026500     0.202    0.713  122.863       181786               4   \n",
       "3          0.021300     0.610    0.771  114.216       188200               4   \n",
       "4          0.000000     0.122    0.566  111.330       143332               4   \n",
       "\n",
       "   genre  artist_encoded  album_encoded  \n",
       "0      1            3879           5734  \n",
       "1      1            1024           5133  \n",
       "2      1            2716           1547  \n",
       "3      1            4642           5703  \n",
       "4      1            2488           7228  \n",
       "\n",
       "[5 rows x 22 columns]"
      ]
     },
     "execution_count": 5,
     "metadata": {},
     "output_type": "execute_result"
    }
   ],
   "source": [
    "df.head()"
   ]
  },
  {
   "cell_type": "code",
   "execution_count": 6,
   "metadata": {},
   "outputs": [],
   "source": [
    "from sklearn.model_selection import train_test_split\n",
    "from sklearn import metrics \n",
    "from imblearn.over_sampling import RandomOverSampler\n",
    "from imblearn.under_sampling import RandomUnderSampler\n",
    "from imblearn.over_sampling import SMOTE\n",
    "from collections import Counter\n",
    "from imblearn.under_sampling import NearMiss\n",
    "from numpy import where\n",
    "from sklearn.ensemble import RandomForestClassifier\n"
   ]
  },
  {
   "cell_type": "code",
   "execution_count": 7,
   "metadata": {},
   "outputs": [],
   "source": [
    "X = df[['track_popularity', 'artist_popularity', 'danceability', 'energy', 'key', 'loudness', 'mode', 'speechiness', 'acousticness', 'instrumentalness', 'liveness', 'valence', 'tempo', 'duration_ms', 'time_signature', 'artist_encoded', 'album_encoded']]\n",
    "y = df['genre']\n",
    "\n",
    "X_train, X_test, y_train, y_test = train_test_split(X, y, test_size = 0.20)"
   ]
  },
  {
   "cell_type": "code",
   "execution_count": 8,
   "metadata": {},
   "outputs": [
    {
     "name": "stdout",
     "output_type": "stream",
     "text": [
      "ACCURACY OF THE MODEL:  0.6761619190404797\n",
      "RECALL OF THE MODEL:  0.6731799335751961\n",
      "SCORE IN TEST:  0.6761619190404797\n",
      "SCORE IN TRAIN:  0.9850046860356139\n"
     ]
    }
   ],
   "source": [
    "rfc2 = RandomForestClassifier(n_estimators = 300) \n",
    "\n",
    "rfc2.fit(X_train, y_train)\n",
    "\n",
    "y_pred = rfc2.predict(X_test)\n",
    "\n",
    "print(\"ACCURACY OF THE MODEL: \", metrics.accuracy_score(y_test, y_pred))\n",
    "print(\"RECALL OF THE MODEL: \", metrics.recall_score(y_test, y_pred, average='macro'))\n",
    "print(\"SCORE IN TEST: \", rfc2.score(X_test, y_test))\n",
    "print(\"SCORE IN TRAIN: \", rfc2.score(X_train, y_train))"
   ]
  },
  {
   "cell_type": "code",
   "execution_count": 9,
   "metadata": {},
   "outputs": [
    {
     "data": {
      "image/png": "[encoded data removed]",
      "text/plain": [
       "<Figure size 1008x576 with 1 Axes>"
      ]
     },
     "metadata": {
      "needs_background": "light"
     },
     "output_type": "display_data"
    }
   ],
   "source": [
    "import matplotlib.pyplot as plt\n",
    "importances = pd.DataFrame(data={\n",
    "    'Attribute': X.columns,\n",
    "    'Importance': rfc2.feature_importances_})\n",
    "\n",
    "importances = importances.sort_values(by='Importance', ascending=False)\n",
    "plt.figure(figsize = (14,8))\n",
    "\n",
    "plt.bar(x=importances['Attribute'], height=importances['Importance'], color='#087E8B')\n",
    "plt.title('Feature importances for ETC_1', size=20)\n",
    "plt.xticks(rotation='vertical')\n",
    "plt.show()"
   ]
  },
  {
   "cell_type": "code",
   "execution_count": 10,
   "metadata": {},
   "outputs": [],
   "source": [
    "X = df[['track_popularity', 'artist_popularity', 'danceability', 'energy', 'loudness', 'speechiness', 'acousticness', 'instrumentalness', 'valence', 'tempo', 'duration_ms', 'time_signature', 'artist_encoded']]\n",
    "y = df['genre']\n",
    "\n",
    "X_train, X_test, y_train, y_test = train_test_split(X, y, test_size = 0.20)"
   ]
  },
  {
   "cell_type": "code",
   "execution_count": 11,
   "metadata": {},
   "outputs": [
    {
     "name": "stdout",
     "output_type": "stream",
     "text": [
      "ACCURACY OF THE MODEL:  0.6652923538230885\n",
      "RECALL OF THE MODEL:  0.6601314405194677\n",
      "SCORE IN TEST:  0.6652923538230885\n",
      "SCORE IN TRAIN:  0.9852858481724461\n"
     ]
    }
   ],
   "source": [
    "rfc2 = RandomForestClassifier(n_estimators = 300) \n",
    "\n",
    "rfc2.fit(X_train, y_train)\n",
    "\n",
    "y_pred = rfc2.predict(X_test)\n",
    "\n",
    "print(\"ACCURACY OF THE MODEL: \", metrics.accuracy_score(y_test, y_pred))\n",
    "print(\"RECALL OF THE MODEL: \", metrics.recall_score(y_test, y_pred, average='macro'))\n",
    "print(\"SCORE IN TEST: \", rfc2.score(X_test, y_test))\n",
    "print(\"SCORE IN TRAIN: \", rfc2.score(X_train, y_train))"
   ]
  },
  {
   "cell_type": "code",
   "execution_count": 12,
   "metadata": {},
   "outputs": [],
   "source": [
    "df2 = pd.read_csv('../../data/clean_data/clean02.csv')"
   ]
  },
  {
   "cell_type": "code",
   "execution_count": 13,
   "metadata": {},
   "outputs": [],
   "source": [
    "X = df2[['track_popularity', 'artist_popularity', 'danceability', 'energy', 'key', 'loudness', 'mode', 'speechiness', 'acousticness', 'instrumentalness', 'liveness', 'valence', 'tempo', 'duration_ms', 'time_signature', 'artist_encoded', 'album_encoded']]\n",
    "y = df2['genre']\n",
    "\n",
    "X_train, X_test, y_train, y_test = train_test_split(X, y, test_size = 0.20)"
   ]
  },
  {
   "cell_type": "code",
   "execution_count": 14,
   "metadata": {},
   "outputs": [
    {
     "name": "stdout",
     "output_type": "stream",
     "text": [
      "ACCURACY OF THE MODEL:  0.6656671664167916\n",
      "RECALL OF THE MODEL:  0.6602517031087208\n",
      "SCORE IN TEST:  0.6656671664167916\n",
      "SCORE IN TRAIN:  0.9857544517338331\n"
     ]
    }
   ],
   "source": [
    "rfc2 = RandomForestClassifier(n_estimators = 300) \n",
    "\n",
    "rfc2.fit(X_train, y_train)\n",
    "\n",
    "y_pred = rfc2.predict(X_test)\n",
    "\n",
    "print(\"ACCURACY OF THE MODEL: \", metrics.accuracy_score(y_test, y_pred))\n",
    "print(\"RECALL OF THE MODEL: \", metrics.recall_score(y_test, y_pred, average='macro'))\n",
    "print(\"SCORE IN TEST: \", rfc2.score(X_test, y_test))\n",
    "print(\"SCORE IN TRAIN: \", rfc2.score(X_train, y_train))"
   ]
  },
  {
   "cell_type": "code",
   "execution_count": 15,
   "metadata": {},
   "outputs": [],
   "source": [
    "X = df2[['track_popularity', 'artist_popularity', 'danceability', 'energy', 'key', 'loudness', 'mode', 'speechiness', 'acousticness', 'instrumentalness', 'liveness', 'valence', 'tempo', 'duration_ms', 'time_signature', 'artist_encoded', 'album_encoded']]\n",
    "y = df2['genre']\n",
    "\n",
    "X_train, X_test, y_train, y_test = train_test_split(X, y, test_size = 0.20)"
   ]
  },
  {
   "cell_type": "code",
   "execution_count": 16,
   "metadata": {},
   "outputs": [
    {
     "name": "stdout",
     "output_type": "stream",
     "text": [
      "ACCURACY OF THE MODEL:  0.6874062968515742\n",
      "RECALL OF THE MODEL:  0.6809875419306088\n",
      "SCORE IN TEST:  0.6874062968515742\n",
      "SCORE IN TRAIN:  0.984817244611059\n"
     ]
    }
   ],
   "source": [
    "rfc2 = RandomForestClassifier(n_estimators = 300) \n",
    "\n",
    "rfc2.fit(X_train, y_train)\n",
    "\n",
    "y_pred = rfc2.predict(X_test)\n",
    "\n",
    "print(\"ACCURACY OF THE MODEL: \", metrics.accuracy_score(y_test, y_pred))\n",
    "print(\"RECALL OF THE MODEL: \", metrics.recall_score(y_test, y_pred, average='macro'))\n",
    "print(\"SCORE IN TEST: \", rfc2.score(X_test, y_test))\n",
    "print(\"SCORE IN TRAIN: \", rfc2.score(X_train, y_train))"
   ]
  },
  {
   "cell_type": "code",
   "execution_count": 17,
   "metadata": {},
   "outputs": [],
   "source": [
    "df3 = pd.read_csv('../../data/clean_data/clean03.csv')"
   ]
  },
  {
   "cell_type": "code",
   "execution_count": 18,
   "metadata": {},
   "outputs": [],
   "source": [
    "X = df3[['track_popularity', 'artist_popularity', 'danceability', 'energy', 'key', 'loudness', 'mode', 'speechiness', 'acousticness', 'instrumentalness', 'liveness', 'valence', 'tempo', 'duration_ms', 'time_signature', 'artist_encoded', 'album_encoded']]\n",
    "y = df3['genre']\n",
    "\n",
    "X_train, X_test, y_train, y_test = train_test_split(X, y, test_size = 0.20)"
   ]
  },
  {
   "cell_type": "code",
   "execution_count": 19,
   "metadata": {},
   "outputs": [
    {
     "name": "stdout",
     "output_type": "stream",
     "text": [
      "ACCURACY OF THE MODEL:  0.6686656671664168\n",
      "RECALL OF THE MODEL:  0.67021638674557\n",
      "SCORE IN TEST:  0.6686656671664168\n",
      "SCORE IN TRAIN:  0.9858481724461106\n"
     ]
    }
   ],
   "source": [
    "rfc2 = RandomForestClassifier(n_estimators = 300) \n",
    "\n",
    "rfc2.fit(X_train, y_train)\n",
    "\n",
    "y_pred = rfc2.predict(X_test)\n",
    "\n",
    "print(\"ACCURACY OF THE MODEL: \", metrics.accuracy_score(y_test, y_pred))\n",
    "print(\"RECALL OF THE MODEL: \", metrics.recall_score(y_test, y_pred, average='macro'))\n",
    "print(\"SCORE IN TEST: \", rfc2.score(X_test, y_test))\n",
    "print(\"SCORE IN TRAIN: \", rfc2.score(X_train, y_train))"
   ]
  },
  {
   "cell_type": "code",
   "execution_count": 20,
   "metadata": {},
   "outputs": [],
   "source": [
    "df4 = pd.read_csv('../../data/clean_data/clean04.csv')"
   ]
  },
  {
   "cell_type": "code",
   "execution_count": 21,
   "metadata": {},
   "outputs": [],
   "source": [
    "X = df4[['track_popularity', 'artist_popularity', 'danceability', 'energy', 'key', 'loudness', 'mode', 'speechiness', 'acousticness', 'instrumentalness', 'liveness', 'valence', 'tempo', 'duration_ms', 'time_signature', 'artist_encoded', 'album_encoded']]\n",
    "y = df4['genre']\n",
    "\n",
    "X_train, X_test, y_train, y_test = train_test_split(X, y, test_size = 0.20)"
   ]
  },
  {
   "cell_type": "code",
   "execution_count": 22,
   "metadata": {},
   "outputs": [
    {
     "name": "stdout",
     "output_type": "stream",
     "text": [
      "ACCURACY OF THE MODEL:  0.6645427286356822\n",
      "RECALL OF THE MODEL:  0.6632576778794793\n",
      "SCORE IN TEST:  0.6645427286356822\n",
      "SCORE IN TRAIN:  0.98659793814433\n"
     ]
    }
   ],
   "source": [
    "rfc2 = RandomForestClassifier(n_estimators = 300) \n",
    "\n",
    "rfc2.fit(X_train, y_train)\n",
    "\n",
    "y_pred = rfc2.predict(X_test)\n",
    "\n",
    "print(\"ACCURACY OF THE MODEL: \", metrics.accuracy_score(y_test, y_pred))\n",
    "print(\"RECALL OF THE MODEL: \", metrics.recall_score(y_test, y_pred, average='macro'))\n",
    "print(\"SCORE IN TEST: \", rfc2.score(X_test, y_test))\n",
    "print(\"SCORE IN TRAIN: \", rfc2.score(X_train, y_train))"
   ]
  },
  {
   "cell_type": "code",
   "execution_count": 23,
   "metadata": {},
   "outputs": [],
   "source": [
    "X = df4[['track_popularity', 'artist_popularity', 'danceability', 'energy', 'loudness', 'speechiness', 'acousticness', 'instrumentalness', 'valence', 'tempo', 'duration_ms', 'time_signature', 'artist_encoded']]\n",
    "y = df4['genre']\n",
    "\n",
    "X_train, X_test, y_train, y_test = train_test_split(X, y, test_size = 0.20)"
   ]
  },
  {
   "cell_type": "code",
   "execution_count": 24,
   "metadata": {},
   "outputs": [
    {
     "name": "stdout",
     "output_type": "stream",
     "text": [
      "ACCURACY OF THE MODEL:  0.6776611694152923\n",
      "RECALL OF THE MODEL:  0.6710216105715312\n",
      "SCORE IN TEST:  0.6776611694152923\n",
      "SCORE IN TRAIN:  0.9860356138706654\n"
     ]
    }
   ],
   "source": [
    "rfc2 = RandomForestClassifier(n_estimators = 300) \n",
    "\n",
    "rfc2.fit(X_train, y_train)\n",
    "\n",
    "y_pred = rfc2.predict(X_test)\n",
    "\n",
    "print(\"ACCURACY OF THE MODEL: \", metrics.accuracy_score(y_test, y_pred))\n",
    "print(\"RECALL OF THE MODEL: \", metrics.recall_score(y_test, y_pred, average='macro'))\n",
    "print(\"SCORE IN TEST: \", rfc2.score(X_test, y_test))\n",
    "print(\"SCORE IN TRAIN: \", rfc2.score(X_train, y_train))"
   ]
  },
  {
   "cell_type": "code",
   "execution_count": 25,
   "metadata": {},
   "outputs": [],
   "source": [
    "df5 = pd.read_csv('../../data/clean_data/clean05.csv')"
   ]
  },
  {
   "cell_type": "code",
   "execution_count": 26,
   "metadata": {},
   "outputs": [],
   "source": [
    "X = df5[['track_popularity', 'artist_popularity', 'danceability', 'energy', 'key', 'loudness', 'mode', 'speechiness', 'acousticness', 'instrumentalness', 'liveness', 'valence', 'tempo', 'duration_ms', 'time_signature', 'artist_encoded', 'album_encoded']]\n",
    "y = df5['genre']\n",
    "\n",
    "X_train, X_test, y_train, y_test = train_test_split(X, y, test_size = 0.20)"
   ]
  },
  {
   "cell_type": "code",
   "execution_count": 27,
   "metadata": {},
   "outputs": [
    {
     "name": "stdout",
     "output_type": "stream",
     "text": [
      "ACCURACY OF THE MODEL:  0.6709145427286357\n",
      "RECALL OF THE MODEL:  0.668192716744116\n",
      "SCORE IN TEST:  0.6709145427286357\n",
      "SCORE IN TRAIN:  0.9850984067478913\n"
     ]
    }
   ],
   "source": [
    "rfc2 = RandomForestClassifier(n_estimators = 300) \n",
    "\n",
    "rfc2.fit(X_train, y_train)\n",
    "\n",
    "y_pred = rfc2.predict(X_test)\n",
    "\n",
    "print(\"ACCURACY OF THE MODEL: \", metrics.accuracy_score(y_test, y_pred))\n",
    "print(\"RECALL OF THE MODEL: \", metrics.recall_score(y_test, y_pred, average='macro'))\n",
    "print(\"SCORE IN TEST: \", rfc2.score(X_test, y_test))\n",
    "print(\"SCORE IN TRAIN: \", rfc2.score(X_train, y_train))"
   ]
  },
  {
   "cell_type": "code",
   "execution_count": 28,
   "metadata": {},
   "outputs": [],
   "source": [
    "X = df5[['track_popularity', 'artist_popularity', 'danceability', 'energy', 'key', 'loudness', 'speechiness', 'acousticness', 'instrumentalness', 'valence', 'tempo', 'duration_ms', 'time_signature', 'artist_encoded']]\n",
    "y = df5['genre']\n",
    "\n",
    "X_train, X_test, y_train, y_test = train_test_split(X, y, test_size = 0.20)"
   ]
  },
  {
   "cell_type": "code",
   "execution_count": 29,
   "metadata": {},
   "outputs": [
    {
     "name": "stdout",
     "output_type": "stream",
     "text": [
      "ACCURACY OF THE MODEL:  0.6630434782608695\n",
      "RECALL OF THE MODEL:  0.657848875257316\n",
      "SCORE IN TEST:  0.6630434782608695\n",
      "SCORE IN TRAIN:  0.9861293345829428\n"
     ]
    }
   ],
   "source": [
    "rfc2 = RandomForestClassifier(n_estimators = 300) \n",
    "\n",
    "rfc2.fit(X_train, y_train)\n",
    "\n",
    "y_pred = rfc2.predict(X_test)\n",
    "\n",
    "print(\"ACCURACY OF THE MODEL: \", metrics.accuracy_score(y_test, y_pred))\n",
    "print(\"RECALL OF THE MODEL: \", metrics.recall_score(y_test, y_pred, average='macro'))\n",
    "print(\"SCORE IN TEST: \", rfc2.score(X_test, y_test))\n",
    "print(\"SCORE IN TRAIN: \", rfc2.score(X_train, y_train))"
   ]
  },
  {
   "cell_type": "code",
   "execution_count": 30,
   "metadata": {},
   "outputs": [],
   "source": [
    "df6 = pd.read_csv('../../data/clean_data/clean06.csv')"
   ]
  },
  {
   "cell_type": "code",
   "execution_count": 31,
   "metadata": {},
   "outputs": [],
   "source": [
    "X = df6[['track_popularity', 'artist_popularity', 'danceability', 'energy', 'key', 'loudness', 'mode', 'speechiness', 'acousticness', 'instrumentalness', 'liveness', 'valence', 'tempo', 'duration_ms', 'time_signature', 'artist_encoded', 'album_encoded']]\n",
    "y = df6['genre']\n",
    "\n",
    "X_train, X_test, y_train, y_test = train_test_split(X, y, test_size = 0.20)"
   ]
  },
  {
   "cell_type": "code",
   "execution_count": 32,
   "metadata": {},
   "outputs": [
    {
     "name": "stdout",
     "output_type": "stream",
     "text": [
      "ACCURACY OF THE MODEL:  0.6664167916041979\n",
      "RECALL OF THE MODEL:  0.6593574189383061\n",
      "SCORE IN TEST:  0.6664167916041979\n",
      "SCORE IN TRAIN:  0.9858481724461106\n"
     ]
    }
   ],
   "source": [
    "rfc2 = RandomForestClassifier(n_estimators = 300) \n",
    "\n",
    "rfc2.fit(X_train, y_train)\n",
    "\n",
    "y_pred = rfc2.predict(X_test)\n",
    "\n",
    "print(\"ACCURACY OF THE MODEL: \", metrics.accuracy_score(y_test, y_pred))\n",
    "print(\"RECALL OF THE MODEL: \", metrics.recall_score(y_test, y_pred, average='macro'))\n",
    "print(\"SCORE IN TEST: \", rfc2.score(X_test, y_test))\n",
    "print(\"SCORE IN TRAIN: \", rfc2.score(X_train, y_train))"
   ]
  },
  {
   "cell_type": "code",
   "execution_count": 33,
   "metadata": {},
   "outputs": [],
   "source": [
    "df7 = pd.read_csv('../../data/clean_data/clean07.csv')"
   ]
  },
  {
   "cell_type": "code",
   "execution_count": 34,
   "metadata": {},
   "outputs": [],
   "source": [
    "X = df7[['track_popularity', 'artist_popularity', 'danceability', 'energy', 'key', 'loudness', 'mode', 'speechiness', 'acousticness', 'instrumentalness', 'liveness', 'valence', 'tempo', 'duration_ms', 'time_signature', 'artist_encoded', 'album_encoded', 'artist_genre_blues', 'artist_genre_classical', 'artist_genre_disco', 'artist_genre_country', 'artist_genre_electronic', 'artist_genre_hiphop', 'artist_genre_metal', 'artist_genre_jazz', 'artist_genre_pop', 'artist_genre_reggae', 'artist_genre_rock', 'artist_genre_latin']]\n",
    "y = df7['genre']\n",
    "\n",
    "X_train, X_test, y_train, y_test = train_test_split(X, y, test_size = 0.20)"
   ]
  },
  {
   "cell_type": "code",
   "execution_count": 35,
   "metadata": {},
   "outputs": [
    {
     "name": "stdout",
     "output_type": "stream",
     "text": [
      "ACCURACY OF THE MODEL:  0.9029235382308846\n",
      "RECALL OF THE MODEL:  0.9021736259646368\n",
      "SCORE IN TEST:  0.9029235382308846\n",
      "SCORE IN TRAIN:  0.9860356138706654\n"
     ]
    }
   ],
   "source": [
    "rfc2 = RandomForestClassifier(n_estimators = 300) \n",
    "\n",
    "rfc2.fit(X_train, y_train)\n",
    "\n",
    "y_pred = rfc2.predict(X_test)\n",
    "\n",
    "print(\"ACCURACY OF THE MODEL: \", metrics.accuracy_score(y_test, y_pred))\n",
    "print(\"RECALL OF THE MODEL: \", metrics.recall_score(y_test, y_pred, average='macro'))\n",
    "print(\"SCORE IN TEST: \", rfc2.score(X_test, y_test))\n",
    "print(\"SCORE IN TRAIN: \", rfc2.score(X_train, y_train))"
   ]
  },
  {
   "cell_type": "code",
   "execution_count": 36,
   "metadata": {},
   "outputs": [
    {
     "data": {
      "text/plain": [
       "array([0.04930181, 0.03864034, 0.03370266, 0.04200833, 0.00778129,\n",
       "       0.03209904, 0.00320371, 0.02445725, 0.04814262, 0.04067248,\n",
       "       0.01310445, 0.0255484 , 0.02285932, 0.02343786, 0.00140944,\n",
       "       0.01562147, 0.01265038, 0.04703171, 0.03803636, 0.04286796,\n",
       "       0.0602122 , 0.04312824, 0.0611008 , 0.0523381 , 0.04676707,\n",
       "       0.03341249, 0.05846328, 0.0364944 , 0.04550653])"
      ]
     },
     "execution_count": 36,
     "metadata": {},
     "output_type": "execute_result"
    }
   ],
   "source": [
    "rfc2.feature_importances_"
   ]
  },
  {
   "cell_type": "code",
   "execution_count": 37,
   "metadata": {},
   "outputs": [
    {
     "data": {
      "image/png": "[encoded data removed]",
      "text/plain": [
       "<Figure size 1008x576 with 1 Axes>"
      ]
     },
     "metadata": {
      "needs_background": "light"
     },
     "output_type": "display_data"
    }
   ],
   "source": [
    "import matplotlib.pyplot as plt\n",
    "importances = pd.DataFrame(data={\n",
    "    'Attribute': X.columns,\n",
    "    'Importance': rfc2.feature_importances_})\n",
    "\n",
    "importances = importances.sort_values(by='Importance', ascending=False)\n",
    "plt.figure(figsize = (14,8))\n",
    "\n",
    "plt.bar(x=importances['Attribute'], height=importances['Importance'], color='#087E8B')\n",
    "plt.title('Feature importances for ETC_1', size=20)\n",
    "plt.xticks(rotation='vertical')\n",
    "plt.show()"
   ]
  },
  {
   "cell_type": "code",
   "execution_count": 66,
   "metadata": {},
   "outputs": [],
   "source": [
    "df8 = pd.read_csv('../../data/clean_data/clean08.csv')"
   ]
  },
  {
   "cell_type": "code",
   "execution_count": 67,
   "metadata": {},
   "outputs": [],
   "source": [
    "X = df8[['track_popularity', 'artist_popularity', 'danceability', 'energy', 'key', 'loudness', 'mode', 'speechiness', \n",
    "        'acousticness', 'instrumentalness', 'liveness', 'valence', 'tempo', 'duration_ms', 'time_signature', \n",
    "        'artist_encoded', 'album_encoded']]\n",
    "y = df8['genre']\n",
    "\n",
    "X_train, X_test, y_train, y_test = train_test_split(X, y, test_size = 0.20)"
   ]
  },
  {
   "cell_type": "code",
   "execution_count": 68,
   "metadata": {},
   "outputs": [
    {
     "name": "stdout",
     "output_type": "stream",
     "text": [
      "ACCURACY OF THE MODEL:  0.6626686656671664\n",
      "RECALL OF THE MODEL:  0.6612853823431746\n",
      "SCORE IN TEST:  0.6626686656671664\n",
      "SCORE IN TRAIN:  0.9847235238987816\n"
     ]
    }
   ],
   "source": [
    "rfc2 = RandomForestClassifier(n_estimators = 300) \n",
    "\n",
    "rfc2.fit(X_train, y_train)\n",
    "\n",
    "y_pred = rfc2.predict(X_test)\n",
    "\n",
    "print(\"ACCURACY OF THE MODEL: \", metrics.accuracy_score(y_test, y_pred))\n",
    "print(\"RECALL OF THE MODEL: \", metrics.recall_score(y_test, y_pred, average='macro'))\n",
    "print(\"SCORE IN TEST: \", rfc2.score(X_test, y_test))\n",
    "print(\"SCORE IN TRAIN: \", rfc2.score(X_train, y_train))"
   ]
  },
  {
   "cell_type": "code",
   "execution_count": 69,
   "metadata": {},
   "outputs": [
    {
     "data": {
      "image/png": "[encoded data removed]",
      "text/plain": [
       "<Figure size 1008x576 with 1 Axes>"
      ]
     },
     "metadata": {
      "needs_background": "light"
     },
     "output_type": "display_data"
    }
   ],
   "source": [
    "import matplotlib.pyplot as plt\n",
    "importances = pd.DataFrame(data={\n",
    "    'Attribute': X.columns,\n",
    "    'Importance': rfc2.feature_importances_})\n",
    "\n",
    "importances = importances.sort_values(by='Importance', ascending=False)\n",
    "plt.figure(figsize = (14,8))\n",
    "\n",
    "plt.bar(x=importances['Attribute'], height=importances['Importance'], color='#087E8B')\n",
    "plt.title('Feature importances for ETC_1', size=20)\n",
    "plt.xticks(rotation='vertical')\n",
    "plt.show()"
   ]
  },
  {
   "cell_type": "code",
   "execution_count": 70,
   "metadata": {},
   "outputs": [],
   "source": [
    "df9 = pd.read_csv('../../data/clean_data/clean09.csv')"
   ]
  },
  {
   "cell_type": "code",
   "execution_count": 72,
   "metadata": {},
   "outputs": [],
   "source": [
    "X = df9[['track_popularity', 'artist_popularity', 'danceability', 'energy', 'key', 'loudness', 'mode', 'speechiness', \n",
    "        'acousticness', 'instrumentalness', 'liveness', 'valence', 'tempo', 'duration_ms', 'time_signature', \n",
    "        'artist_encoded', 'album_encoded']]\n",
    "y = df9['genre']\n",
    "\n",
    "X_train, X_test, y_train, y_test = train_test_split(X, y, test_size = 0.20)"
   ]
  },
  {
   "cell_type": "code",
   "execution_count": 73,
   "metadata": {},
   "outputs": [
    {
     "name": "stdout",
     "output_type": "stream",
     "text": [
      "ACCURACY OF THE MODEL:  0.6637931034482759\n",
      "RECALL OF THE MODEL:  0.6610038665793466\n",
      "SCORE IN TEST:  0.6637931034482759\n",
      "SCORE IN TRAIN:  0.9856607310215557\n"
     ]
    }
   ],
   "source": [
    "rfc2 = RandomForestClassifier(n_estimators = 300) \n",
    "\n",
    "rfc2.fit(X_train, y_train)\n",
    "\n",
    "y_pred = rfc2.predict(X_test)\n",
    "\n",
    "print(\"ACCURACY OF THE MODEL: \", metrics.accuracy_score(y_test, y_pred))\n",
    "print(\"RECALL OF THE MODEL: \", metrics.recall_score(y_test, y_pred, average='macro'))\n",
    "print(\"SCORE IN TEST: \", rfc2.score(X_test, y_test))\n",
    "print(\"SCORE IN TRAIN: \", rfc2.score(X_train, y_train))"
   ]
  },
  {
   "cell_type": "code",
   "execution_count": 74,
   "metadata": {},
   "outputs": [],
   "source": [
    "from sklearn.preprocessing import MinMaxScaler\n",
    "scaler = MinMaxScaler()\n",
    "scaler.fit(X_train)\n",
    "X_train = pd.DataFrame(scaler.transform(X_train), columns = X.columns)\n",
    "X_test = pd.DataFrame(scaler.transform(X_test), columns = X.columns)"
   ]
  },
  {
   "cell_type": "code",
   "execution_count": 75,
   "metadata": {},
   "outputs": [
    {
     "name": "stdout",
     "output_type": "stream",
     "text": [
      "ACCURACY OF THE MODEL:  0.6626686656671664\n",
      "RECALL OF THE MODEL:  0.660067757004979\n",
      "SCORE IN TEST:  0.6626686656671664\n",
      "SCORE IN TRAIN:  0.9856607310215557\n"
     ]
    }
   ],
   "source": [
    "rfc2 = RandomForestClassifier(n_estimators = 300) \n",
    "\n",
    "rfc2.fit(X_train, y_train)\n",
    "\n",
    "y_pred = rfc2.predict(X_test)\n",
    "\n",
    "print(\"ACCURACY OF THE MODEL: \", metrics.accuracy_score(y_test, y_pred))\n",
    "print(\"RECALL OF THE MODEL: \", metrics.recall_score(y_test, y_pred, average='macro'))\n",
    "print(\"SCORE IN TEST: \", rfc2.score(X_test, y_test))\n",
    "print(\"SCORE IN TRAIN: \", rfc2.score(X_train, y_train))"
   ]
  },
  {
   "cell_type": "code",
   "execution_count": 76,
   "metadata": {},
   "outputs": [
    {
     "name": "stdout",
     "output_type": "stream",
     "text": [
      "ACCURACY OF THE MODEL:  0.6622938530734632\n",
      "RECALL OF THE MODEL:  0.6592491085380788\n",
      "SCORE IN TEST:  0.6622938530734632\n",
      "SCORE IN TRAIN:  0.9845360824742269\n"
     ]
    }
   ],
   "source": [
    "# Train random forest model with optimal parameters\n",
    "rf = RandomForestClassifier(max_depth=25, min_samples_leaf=1, min_samples_split=5, n_estimators=1200)\n",
    "rf.fit(X_train, y_train)\n",
    "# Probabilities of each genre \n",
    "rf_probs = rf.predict_proba(X_test)\n",
    "\n",
    "y_pred = rf.predict(X_test)\n",
    "\n",
    "print(\"ACCURACY OF THE MODEL: \", metrics.accuracy_score(y_test, y_pred))\n",
    "print(\"RECALL OF THE MODEL: \", metrics.recall_score(y_test, y_pred, average='macro'))\n",
    "print(\"SCORE IN TEST: \", rf.score(X_test, y_test))\n",
    "print(\"SCORE IN TRAIN: \", rf.score(X_train, y_train))"
   ]
  },
  {
   "cell_type": "code",
   "execution_count": 77,
   "metadata": {},
   "outputs": [],
   "source": [
    "from random import random\n",
    "from imblearn.over_sampling import RandomOverSampler\n",
    "\n",
    "ros = RandomOverSampler()\n",
    "X_ros, y_ros = ros.fit_resample(X,y)\n",
    "\n",
    "X_train, X_test, y_train, y_test = train_test_split(X_ros, y_ros, test_size = 0.20, stratify=y_ros)"
   ]
  },
  {
   "cell_type": "code",
   "execution_count": 78,
   "metadata": {},
   "outputs": [
    {
     "name": "stdout",
     "output_type": "stream",
     "text": [
      "ACCURACY OF THE MODEL:  0.8340579710144927\n",
      "RECALL OF THE MODEL:  0.8340579710144929\n",
      "SCORE IN TEST:  0.8340579710144927\n",
      "SCORE IN TRAIN:  0.9864130434782609\n"
     ]
    }
   ],
   "source": [
    "# Train random forest model with optimal parameters\n",
    "rf = RandomForestClassifier(max_depth=25, min_samples_leaf=1, min_samples_split=5, n_estimators=1200)\n",
    "rf.fit(X_train, y_train)\n",
    "# Probabilities of each genre \n",
    "rf_probs = rf.predict_proba(X_test)\n",
    "\n",
    "y_pred = rf.predict(X_test)\n",
    "\n",
    "print(\"ACCURACY OF THE MODEL: \", metrics.accuracy_score(y_test, y_pred))\n",
    "print(\"RECALL OF THE MODEL: \", metrics.recall_score(y_test, y_pred, average='macro'))\n",
    "print(\"SCORE IN TEST: \", rf.score(X_test, y_test))\n",
    "print(\"SCORE IN TRAIN: \", rf.score(X_train, y_train))"
   ]
  },
  {
   "cell_type": "code",
   "execution_count": 86,
   "metadata": {},
   "outputs": [
    {
     "name": "stdout",
     "output_type": "stream",
     "text": [
      "[(1, 1131), (2, 1131), (3, 1131), (4, 1131), (5, 1131), (6, 1131), (7, 1131), (8, 1131), (9, 1131), (10, 1131), (11, 1131), (12, 1131)]\n"
     ]
    }
   ],
   "source": [
    "# Randomly over sample the minority class\n",
    "smote = SMOTE(random_state=42)\n",
    "X_train_smote, y_train_smote= smote.fit_resample(X_train, y_train)\n",
    "# Check the number of records after over sampling\n",
    "print(sorted(Counter(y_train_smote).items()))\n",
    "\n",
    "X_train, X_test, y_train, y_test = train_test_split(X_train_smote, y_train_smote, test_size = 0.20)"
   ]
  },
  {
   "cell_type": "code",
   "execution_count": 83,
   "metadata": {},
   "outputs": [
    {
     "name": "stdout",
     "output_type": "stream",
     "text": [
      "ACCURACY OF THE MODEL:  0.8064613526570048\n",
      "RECALL OF THE MODEL:  0.8090096413900493\n",
      "SCORE IN TEST:  0.8064613526570048\n",
      "SCORE IN TRAIN:  0.9887530193236715\n"
     ]
    }
   ],
   "source": [
    "# Train random forest model with optimal parameters\n",
    "rf = RandomForestClassifier(max_depth=25, min_samples_leaf=1, min_samples_split=5, n_estimators=1200)\n",
    "rf.fit(X_train, y_train)\n",
    "# Probabilities of each genre \n",
    "rf_probs = rf.predict_proba(X_test)\n",
    "\n",
    "y_pred = rf.predict(X_test)\n",
    "\n",
    "print(\"ACCURACY OF THE MODEL: \", metrics.accuracy_score(y_test, y_pred))\n",
    "print(\"RECALL OF THE MODEL: \", metrics.recall_score(y_test, y_pred, average='macro'))\n",
    "print(\"SCORE IN TEST: \", rf.score(X_test, y_test))\n",
    "print(\"SCORE IN TRAIN: \", rf.score(X_train, y_train))"
   ]
  },
  {
   "cell_type": "code",
   "execution_count": 55,
   "metadata": {},
   "outputs": [
    {
     "name": "stdout",
     "output_type": "stream",
     "text": [
      "ACCURACY OF THE MODEL:  0.08381642512077295\n",
      "RECALL OF THE MODEL:  0.08381642512077296\n",
      "SCORE IN TEST:  0.08381642512077295\n",
      "SCORE IN TRAIN:  0.08152173913043478\n"
     ]
    }
   ],
   "source": [
    "from sklearn.datasets import make_hastie_10_2\n",
    "from sklearn.ensemble import GradientBoostingClassifier\n",
    "\n",
    "clf = GradientBoostingClassifier(n_estimators=100, learning_rate=1.0, max_depth=1, random_state=0).fit(X_train, y_train)\n",
    "\n",
    "y_pred = clf.predict(X_test)\n",
    "\n",
    "print(\"ACCURACY OF THE MODEL: \", metrics.accuracy_score(y_test, y_pred))\n",
    "print(\"RECALL OF THE MODEL: \", metrics.recall_score(y_test, y_pred, average='macro'))\n",
    "print(\"SCORE IN TEST: \", clf.score(X_test, y_test))\n",
    "print(\"SCORE IN TRAIN: \", clf.score(X_train, y_train))"
   ]
  },
  {
   "cell_type": "code",
   "execution_count": 90,
   "metadata": {},
   "outputs": [],
   "source": [
    "# Randomly under sample the majority class\n",
    "rus = RandomUnderSampler(random_state=42)\n",
    "X_train_rus, y_train_rus= rus.fit_resample(X_train, y_train)\n",
    "\n",
    "X_train, X_test, y_train, y_test = train_test_split(X_train_smote, y_train_smote, test_size = 0.20)"
   ]
  },
  {
   "cell_type": "code",
   "execution_count": 91,
   "metadata": {},
   "outputs": [
    {
     "name": "stdout",
     "output_type": "stream",
     "text": [
      "ACCURACY OF THE MODEL:  0.7871086556169429\n",
      "RECALL OF THE MODEL:  0.7853095492504735\n",
      "SCORE IN TEST:  0.7871086556169429\n",
      "SCORE IN TRAIN:  0.9903288201160542\n"
     ]
    }
   ],
   "source": [
    "# Train random forest model with optimal parameters\n",
    "rf = RandomForestClassifier(max_depth=25, min_samples_leaf=1, min_samples_split=5, n_estimators=1200)\n",
    "rf.fit(X_train, y_train)\n",
    "# Probabilities of each genre \n",
    "rf_probs = rf.predict_proba(X_test)\n",
    "\n",
    "y_pred = rf.predict(X_test)\n",
    "\n",
    "print(\"ACCURACY OF THE MODEL: \", metrics.accuracy_score(y_test, y_pred))\n",
    "print(\"RECALL OF THE MODEL: \", metrics.recall_score(y_test, y_pred, average='macro'))\n",
    "print(\"SCORE IN TEST: \", rf.score(X_test, y_test))\n",
    "print(\"SCORE IN TRAIN: \", rf.score(X_train, y_train))"
   ]
  },
  {
   "cell_type": "code",
   "execution_count": 94,
   "metadata": {},
   "outputs": [
    {
     "name": "stderr",
     "output_type": "stream",
     "text": [
      "/Library/Frameworks/Python.framework/Versions/3.7/lib/python3.7/site-packages/imblearn/under_sampling/_prototype_selection/_nearmiss.py:189: UserWarning: The number of the samples to be selected is larger than the number of samples available. The balancing ratio cannot be ensure and all samples will be returned.\n",
      "  \"The number of the samples to be selected is larger\"\n",
      "/Library/Frameworks/Python.framework/Versions/3.7/lib/python3.7/site-packages/imblearn/under_sampling/_prototype_selection/_nearmiss.py:189: UserWarning: The number of the samples to be selected is larger than the number of samples available. The balancing ratio cannot be ensure and all samples will be returned.\n",
      "  \"The number of the samples to be selected is larger\"\n",
      "/Library/Frameworks/Python.framework/Versions/3.7/lib/python3.7/site-packages/imblearn/under_sampling/_prototype_selection/_nearmiss.py:189: UserWarning: The number of the samples to be selected is larger than the number of samples available. The balancing ratio cannot be ensure and all samples will be returned.\n",
      "  \"The number of the samples to be selected is larger\"\n",
      "/Library/Frameworks/Python.framework/Versions/3.7/lib/python3.7/site-packages/imblearn/under_sampling/_prototype_selection/_nearmiss.py:189: UserWarning: The number of the samples to be selected is larger than the number of samples available. The balancing ratio cannot be ensure and all samples will be returned.\n",
      "  \"The number of the samples to be selected is larger\"\n",
      "/Library/Frameworks/Python.framework/Versions/3.7/lib/python3.7/site-packages/imblearn/under_sampling/_prototype_selection/_nearmiss.py:189: UserWarning: The number of the samples to be selected is larger than the number of samples available. The balancing ratio cannot be ensure and all samples will be returned.\n",
      "  \"The number of the samples to be selected is larger\"\n",
      "/Library/Frameworks/Python.framework/Versions/3.7/lib/python3.7/site-packages/imblearn/under_sampling/_prototype_selection/_nearmiss.py:189: UserWarning: The number of the samples to be selected is larger than the number of samples available. The balancing ratio cannot be ensure and all samples will be returned.\n",
      "  \"The number of the samples to be selected is larger\"\n",
      "/Library/Frameworks/Python.framework/Versions/3.7/lib/python3.7/site-packages/imblearn/under_sampling/_prototype_selection/_nearmiss.py:189: UserWarning: The number of the samples to be selected is larger than the number of samples available. The balancing ratio cannot be ensure and all samples will be returned.\n",
      "  \"The number of the samples to be selected is larger\"\n",
      "/Library/Frameworks/Python.framework/Versions/3.7/lib/python3.7/site-packages/imblearn/under_sampling/_prototype_selection/_nearmiss.py:189: UserWarning: The number of the samples to be selected is larger than the number of samples available. The balancing ratio cannot be ensure and all samples will be returned.\n",
      "  \"The number of the samples to be selected is larger\"\n",
      "/Library/Frameworks/Python.framework/Versions/3.7/lib/python3.7/site-packages/imblearn/under_sampling/_prototype_selection/_nearmiss.py:189: UserWarning: The number of the samples to be selected is larger than the number of samples available. The balancing ratio cannot be ensure and all samples will be returned.\n",
      "  \"The number of the samples to be selected is larger\"\n",
      "/Library/Frameworks/Python.framework/Versions/3.7/lib/python3.7/site-packages/imblearn/under_sampling/_prototype_selection/_nearmiss.py:189: UserWarning: The number of the samples to be selected is larger than the number of samples available. The balancing ratio cannot be ensure and all samples will be returned.\n",
      "  \"The number of the samples to be selected is larger\"\n",
      "/Library/Frameworks/Python.framework/Versions/3.7/lib/python3.7/site-packages/imblearn/under_sampling/_prototype_selection/_nearmiss.py:189: UserWarning: The number of the samples to be selected is larger than the number of samples available. The balancing ratio cannot be ensure and all samples will be returned.\n",
      "  \"The number of the samples to be selected is larger\"\n"
     ]
    }
   ],
   "source": [
    "# Under sample the majority class\n",
    "nearmiss = NearMiss(version=3)\n",
    "X_train_nearmiss, y_train_nearmiss= nearmiss.fit_resample(X_train, y_train)\n",
    "\n",
    "X_train, X_test, y_train, y_test = train_test_split(X_train_smote, y_train_smote, test_size = 0.20)"
   ]
  },
  {
   "cell_type": "code",
   "execution_count": 95,
   "metadata": {},
   "outputs": [
    {
     "name": "stdout",
     "output_type": "stream",
     "text": [
      "ACCURACY OF THE MODEL:  0.7863720073664825\n",
      "RECALL OF THE MODEL:  0.7873065525510586\n",
      "SCORE IN TEST:  0.7863720073664825\n",
      "SCORE IN TRAIN:  0.9908814589665653\n"
     ]
    }
   ],
   "source": [
    "# Train random forest model with optimal parameters\n",
    "rf = RandomForestClassifier(max_depth=25, min_samples_leaf=1, min_samples_split=5, n_estimators=1200)\n",
    "rf.fit(X_train, y_train)\n",
    "# Probabilities of each genre \n",
    "rf_probs = rf.predict_proba(X_test)\n",
    "\n",
    "y_pred = rf.predict(X_test)\n",
    "\n",
    "print(\"ACCURACY OF THE MODEL: \", metrics.accuracy_score(y_test, y_pred))\n",
    "print(\"RECALL OF THE MODEL: \", metrics.recall_score(y_test, y_pred, average='macro'))\n",
    "print(\"SCORE IN TEST: \", rf.score(X_test, y_test))\n",
    "print(\"SCORE IN TRAIN: \", rf.score(X_train, y_train))"
   ]
  },
  {
   "cell_type": "code",
   "execution_count": null,
   "metadata": {},
   "outputs": [],
   "source": []
  }
 ],
 "metadata": {
  "kernelspec": {
   "display_name": "Python 3.7.4 64-bit",
   "language": "python",
   "name": "python3"
  },
  "language_info": {
   "codemirror_mode": {
    "name": "ipython",
    "version": 3
   },
   "file_extension": ".py",
   "mimetype": "text/x-python",
   "name": "python",
   "nbconvert_exporter": "python",
   "pygments_lexer": "ipython3",
   "version": "3.7.4"
  },
  "orig_nbformat": 4,
  "vscode": {
   "interpreter": {
    "hash": "aee8b7b246df8f9039afb4144a1f6fd8d2ca17a180786b69acc140d282b71a49"
   }
  }
 },
 "nbformat": 4,
 "nbformat_minor": 2
}
