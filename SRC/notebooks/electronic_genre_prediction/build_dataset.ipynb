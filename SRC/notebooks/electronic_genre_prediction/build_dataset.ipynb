{
 "cells": [
  {
   "cell_type": "code",
   "execution_count": 10,
   "metadata": {},
   "outputs": [],
   "source": [
    "# Import the necessary libraries\n",
    "\n",
    "import pandas as pd\n",
    "import numpy as np"
   ]
  },
  {
   "cell_type": "code",
   "execution_count": 11,
   "metadata": {},
   "outputs": [],
   "source": [
    "# All the playlist have been extracted from Spotify API, using the main.py file in utils/get_dataset\n",
    "# We have data distributed in 9 electronic music genres, it has been extracted and saved as dataframes\n",
    "\n",
    "techno = pd.read_csv('../../data/raw_data/individual_playlist/the_sound_of_techno.csv')\n",
    "techno2 = pd.read_csv('../../data/raw_data/individual_playlist/techno_bunker.csv')\n",
    "techno3 = pd.read_csv('../../data/raw_data/individual_playlist/best_techno_2022.csv')\n",
    "techno4 = pd.read_csv('../../data/raw_data/individual_playlist/berlin_techno.csv')\n",
    "\n",
    "dnb = pd.read_csv('../../data/raw_data/individual_playlist/the_sound_of_drum_and_bass.csv')\n",
    "\n",
    "trance = pd.read_csv('../../data/raw_data/individual_playlist/the_sound_of_trance.csv')\n",
    "trance2 = pd.read_csv('../../data/raw_data/individual_playlist/trance_mission.csv')\n",
    "\n",
    "hardstyle = pd.read_csv('../../data/raw_data/individual_playlist/the_sound_of_hardstyle.csv')\n",
    "\n",
    "techhouse = pd.read_csv('../../data/raw_data/individual_playlist/the_sound_of_tech_house.csv')\n",
    "techhouse2 = pd.read_csv('../../data/raw_data/individual_playlist/dirtybird_players.csv')\n",
    "\n",
    "trap = pd.read_csv('../../data/raw_data/individual_playlist/heavy_hitters.csv')\n",
    "\n",
    "psytrance = pd.read_csv('../../data/raw_data/individual_playlist/psytrance_supernova.csv')\n",
    "psytrance2 = pd.read_csv('../../data/raw_data/individual_playlist/psytrance.csv')\n",
    "psytrance3 = pd.read_csv('../../data/raw_data/individual_playlist/psytrance2.csv')\n",
    "psytrance4 = pd.read_csv('../../data/raw_data/individual_playlist/psytrance_and_progressive_trance_mexico.csv')\n",
    "psytrance4 = pd.read_csv('../../data/raw_data/individual_playlist/psytrance_and_progressive_trance_mexico.csv')\n",
    "psytrance5 = pd.read_csv('../../data/raw_data/individual_playlist/psytrance_classics.csv')\n",
    "\n",
    "ambient = pd.read_csv('../../data/raw_data/individual_playlist/the_sound_of_ambient.csv')\n",
    "ambient2 = pd.read_csv('../../data/raw_data/individual_playlist/ambient_electronic.csv')\n",
    "ambient3 = pd.read_csv('../../data/raw_data/individual_playlist/ambient_dreamscapes.csv')\n",
    "ambient4 = pd.read_csv('../../data/raw_data/individual_playlist/ambient_music_2022.csv')\n",
    "\n",
    "synthwave = pd.read_csv('../../data/raw_data/individual_playlist/the_sound_of_synthwave.csv')"
   ]
  },
  {
   "cell_type": "code",
   "execution_count": 12,
   "metadata": {},
   "outputs": [],
   "source": [
    "# Concat the previous dataframes in order to get a common one with all the genres\n",
    "\n",
    "electronics = pd.concat([techhouse, techno, techno2, techno3, techno4, dnb, trance, \n",
    "                         trance2, hardstyle, techhouse, techhouse2, trap, psytrance, \n",
    "                         psytrance2, psytrance3, psytrance4, psytrance5, ambient, ambient2, \n",
    "                         ambient3, ambient4, synthwave])"
   ]
  },
  {
   "cell_type": "code",
   "execution_count": 13,
   "metadata": {},
   "outputs": [],
   "source": [
    "# Since the track ID column is labeled as Unnamed, we need to rename it\n",
    "\n",
    "electronics.rename(columns={'Unnamed: 0' : 'track_id'}, inplace=True)"
   ]
  },
  {
   "cell_type": "code",
   "execution_count": null,
   "metadata": {},
   "outputs": [],
   "source": [
    "# We will also drop the duplicates based on the track_id and the genre columns, so there are no repeated\n",
    "# tracks labeled with the same genre\n",
    "\n",
    "electronics.drop_duplicates(subset=['track_id', 'genre'], inplace=True)"
   ]
  },
  {
   "cell_type": "code",
   "execution_count": 14,
   "metadata": {},
   "outputs": [
    {
     "name": "stdout",
     "output_type": "stream",
     "text": [
      "<class 'pandas.core.frame.DataFrame'>\n",
      "Int64Index: 6393 entries, 0 to 526\n",
      "Data columns (total 24 columns):\n",
      " #   Column             Non-Null Count  Dtype  \n",
      "---  ------             --------------  -----  \n",
      " 0   track_id           6393 non-null   object \n",
      " 1   playlist_url       6393 non-null   object \n",
      " 2   playlist_name      6393 non-null   object \n",
      " 3   track_name         6393 non-null   object \n",
      " 4   track_popularity   6393 non-null   int64  \n",
      " 5   artist_name        6393 non-null   object \n",
      " 6   album              6393 non-null   object \n",
      " 7   album_cover        6393 non-null   object \n",
      " 8   artist_genres      6393 non-null   object \n",
      " 9   artist_popularity  6393 non-null   int64  \n",
      " 10  danceability       6392 non-null   float64\n",
      " 11  energy             6392 non-null   float64\n",
      " 12  key                6392 non-null   float64\n",
      " 13  loudness           6392 non-null   float64\n",
      " 14  mode               6392 non-null   float64\n",
      " 15  speechiness        6392 non-null   float64\n",
      " 16  acousticness       6392 non-null   float64\n",
      " 17  instrumentalness   6392 non-null   float64\n",
      " 18  liveness           6392 non-null   float64\n",
      " 19  valence            6392 non-null   float64\n",
      " 20  tempo              6392 non-null   float64\n",
      " 21  duration_ms        6392 non-null   float64\n",
      " 22  time_signature     6392 non-null   float64\n",
      " 23  genre              6393 non-null   object \n",
      "dtypes: float64(13), int64(2), object(9)\n",
      "memory usage: 1.2+ MB\n"
     ]
    }
   ],
   "source": [
    "electronics.info()"
   ]
  },
  {
   "cell_type": "code",
   "execution_count": 15,
   "metadata": {},
   "outputs": [
    {
     "data": {
      "text/plain": [
       "techhouse    1647\n",
       "ambient       740\n",
       "techno        731\n",
       "psytrance     648\n",
       "trance        640\n",
       "synthwave     527\n",
       "trap          515\n",
       "dnb           474\n",
       "hardstyle     471\n",
       "Name: genre, dtype: int64"
      ]
     },
     "execution_count": 15,
     "metadata": {},
     "output_type": "execute_result"
    }
   ],
   "source": [
    "electronics['genre'].value_counts()"
   ]
  },
  {
   "cell_type": "code",
   "execution_count": 18,
   "metadata": {},
   "outputs": [],
   "source": [
    "# Once the dataset is constructed, we save it in our clean_data folder\n",
    "\n",
    "electronics.to_csv('../../data/clean_data/electronics_all_genres_playlists.csv', index=False)"
   ]
  }
 ],
 "metadata": {
  "kernelspec": {
   "display_name": "Python 3.7.4 64-bit",
   "language": "python",
   "name": "python3"
  },
  "language_info": {
   "codemirror_mode": {
    "name": "ipython",
    "version": 3
   },
   "file_extension": ".py",
   "mimetype": "text/x-python",
   "name": "python",
   "nbconvert_exporter": "python",
   "pygments_lexer": "ipython3",
   "version": "3.7.4"
  },
  "orig_nbformat": 4,
  "vscode": {
   "interpreter": {
    "hash": "aee8b7b246df8f9039afb4144a1f6fd8d2ca17a180786b69acc140d282b71a49"
   }
  }
 },
 "nbformat": 4,
 "nbformat_minor": 2
}
